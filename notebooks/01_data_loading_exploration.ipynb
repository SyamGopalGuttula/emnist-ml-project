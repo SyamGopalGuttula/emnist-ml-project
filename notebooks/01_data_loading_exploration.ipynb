{
 "cells": [
  {
   "cell_type": "markdown",
   "id": "f75db6c3",
   "metadata": {},
   "source": [
    "# EMNIST Dataset - Data Loading and Exploration\n",
    "\n",
    "This notebook is dedicated to loading the EMNIST dataset, exploring its structure, and visualizing some sample images. \n",
    "\n",
    "- **Dataset:** EMNIST (Extended MNIST) Letters Dataset\n",
    "- **Source:** [Kaggle - EMNIST Dataset](https://www.kaggle.com/datasets/crawford/emnist)\n",
    "- **Sections:**\n",
    "  - Loading the dataset from the raw folder.\n",
    "  - Exploring the data dimensions and structure.\n",
    "  - Visualizing some sample images.\n"
   ]
  },
  {
   "cell_type": "code",
   "execution_count": null,
   "id": "e014850f",
   "metadata": {},
   "outputs": [
    {
     "name": "stdout",
     "output_type": "stream",
     "text": [
      "EMNIST Dataset (CSV) loaded successfully.\n"
     ]
    }
   ],
   "source": [
    "# 2. Loading the Dataset\n",
    "import pandas as pd\n",
    "import numpy as np\n",
    "import matplotlib.pyplot as plt\n",
    "\n",
    "# Loading the CSV files\n",
    "train_path = '../data/raw/emnist-letters-train.csv'\n",
    "test_path = '../data/raw/emnist-letters-test.csv'\n",
    "\n",
    "# Load data using pandas\n",
    "train_data = pd.read_csv(train_path, header=None)\n",
    "test_data = pd.read_csv(test_path, header=None)\n",
    "\n",
    "print(\"EMNIST Dataset (CSV) loaded successfully.\")\n"
   ]
  },
  {
   "cell_type": "code",
   "execution_count": null,
   "id": "15ef6ff6",
   "metadata": {},
   "outputs": [],
   "source": [
    "# 3. Exploring the Data\n",
    "print(f\"Training data shape: {train_data.shape}\")\n",
    "print(f\"Testing data shape: {test_data.shape}\")\n",
    "\n",
    "# Display the first few rows\n",
    "train_data.head()\n"
   ]
  }
 ],
 "metadata": {
  "kernelspec": {
   "display_name": "venv",
   "language": "python",
   "name": "python3"
  },
  "language_info": {
   "codemirror_mode": {
    "name": "ipython",
    "version": 3
   },
   "file_extension": ".py",
   "mimetype": "text/x-python",
   "name": "python",
   "nbconvert_exporter": "python",
   "pygments_lexer": "ipython3",
   "version": "3.13.3"
  }
 },
 "nbformat": 4,
 "nbformat_minor": 5
}
