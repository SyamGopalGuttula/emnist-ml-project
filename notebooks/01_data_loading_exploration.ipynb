{
 "cells": [
  {
   "cell_type": "code",
   "execution_count": null,
   "id": "5498c065-e331-4519-a10e-967a3ec0efa4",
   "metadata": {},
   "outputs": [],
   "source": [
    "# EMNIST Dataset - Data Loading and Exploration\n",
    "\n",
    "This notebook is dedicated to loading the EMNIST dataset, exploring its structure, and visualizing some sample images. \n",
    "\n",
    "- **Dataset:** EMNIST (Extended MNIST) Letters Dataset\n",
    "- **Source:** [Kaggle - EMNIST Dataset](https://www.kaggle.com/datasets/crawford/emnist)\n",
    "- **Sections:**\n",
    "  - Loading the dataset from the raw folder.\n",
    "  - Exploring the data dimensions and structure.\n",
    "  - Visualizing some sample images.\n"
   ]
  },
  {
   "cell_type": "code",
   "execution_count": null,
   "id": "5e4ab818",
   "metadata": {},
   "outputs": [],
   "source": []
  }
 ],
 "metadata": {
  "kernelspec": {
   "display_name": "Python (EMNIST Project)",
   "language": "python",
   "name": "emnist_venv"
  },
  "language_info": {
   "codemirror_mode": {
    "name": "ipython",
    "version": 3
   },
   "file_extension": ".py",
   "mimetype": "text/x-python",
   "name": "python",
   "nbconvert_exporter": "python",
   "pygments_lexer": "ipython3",
   "version": "3.13.3"
  }
 },
 "nbformat": 4,
 "nbformat_minor": 5
}
